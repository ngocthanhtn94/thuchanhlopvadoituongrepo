{
 "cells": [
  {
   "cell_type": "code",
   "execution_count": null,
   "id": "1b7705b3",
   "metadata": {},
   "outputs": [],
   "source": [
    "\"\"\"\n",
    "Viết class NhanVien gồm các thuộc tính:\n",
    "+ Tên\n",
    "+ Tuổi\n",
    "+ Địa chỉ\n",
    "+ Tiền lương\n",
    "+ Tổng số giờ làm\n",
    "\n",
    "Và các phương thức:\n",
    "- Phương thức __init__()\n",
    "- print_info() : In ra tất cả các thông tin của nhân viên\n",
    "- tinh_thuong(): Tính toán và trả về số tiền thưởng của nhân viên theo công thức sau:\n",
    "Nếu tổng số giờ làm của nhân viên >=200 thì thưởng = lương * 20%\n",
    "Nếu tổng số giờ làm của nhân viên <200 và >=100 thì thưởng = lương * 10%\n",
    "Nếu tổng số giờ làm của nhân viên <100 thì thưởng = 0\n",
    "\"\"\""
   ]
  },
  {
   "cell_type": "code",
   "execution_count": 12,
   "id": "3cf0f41d",
   "metadata": {},
   "outputs": [],
   "source": [
    "class NhanVien:\n",
    "    def __init__(self, ten, tuoi, dia_chi, tien_luong, tong_so_gio_lam):\n",
    "        self.ten=ten\n",
    "        self.tuoi=tuoi\n",
    "        self.dia_chi=dia_chi\n",
    "        self.tien_luong=tien_luong\n",
    "        self.tong_so_gio_lam=tong_so_gio_lam\n",
    "    def info(self):\n",
    "        print({self.ten})\n",
    "        print({self.tuoi})\n",
    "        print({self.dia_chi})\n",
    "        print({self.tien_luong})\n",
    "        print({self.tong_so_gio_lam})\n",
    "        print({self.tinh_thuong()})\n",
    "    def tinh_thuong(self):\n",
    "        if self.tong_so_gio_lam>=200:\n",
    "            self.bonus=0.2*self.tien_luong\n",
    "        elif self.tong_so_gio_lam>=100:\n",
    "            self.bonus=0.1*self.tien_luong\n",
    "        else:\n",
    "            self.bonus=0\n",
    "        return self.bonus"
   ]
  },
  {
   "cell_type": "code",
   "execution_count": 13,
   "id": "59a0325b",
   "metadata": {},
   "outputs": [
    {
     "name": "stdout",
     "output_type": "stream",
     "text": [
      "{'Henry'}\n",
      "{25}\n",
      "{'123 Hoa Binh'}\n",
      "{10000}\n",
      "{150}\n",
      "{1000.0}\n"
     ]
    }
   ],
   "source": [
    "emp=NhanVien(\"Henry\", 25, \"123 Hoa Binh\", 10000, 150)\n",
    "emp.info()"
   ]
  }
 ],
 "metadata": {
  "kernelspec": {
   "display_name": "Python 3 (ipykernel)",
   "language": "python",
   "name": "python3"
  },
  "language_info": {
   "codemirror_mode": {
    "name": "ipython",
    "version": 3
   },
   "file_extension": ".py",
   "mimetype": "text/x-python",
   "name": "python",
   "nbconvert_exporter": "python",
   "pygments_lexer": "ipython3",
   "version": "3.11.8"
  }
 },
 "nbformat": 4,
 "nbformat_minor": 5
}
